{
 "cells": [
  {
   "cell_type": "code",
   "execution_count": 3,
   "metadata": {},
   "outputs": [],
   "source": [
    "import pandas as pd\n",
    "from Models.AutoModel import get_model\n",
    "from Training.Trainer import Trainer\n",
    "from Training.TrainingArguments import TrainingArguments\n",
    "from Tokenizers.Tokenizers import Callable_tokenizer\n",
    "from Models.ModelArgs import ModelArgs\n",
    "\n",
    "from utils import MT_Dataset, MyCollate, compute_bleu, get_parameters_info\n",
    "import torch"
   ]
  },
  {
   "cell_type": "code",
   "execution_count": 4,
   "metadata": {},
   "outputs": [],
   "source": [
    "train_csv_path = \"out/data/ar-en_train.csv\"\n",
    "valid_csv_path = \"out/data/ar-en_valid.csv\"\n",
    "tokenizer_path = \"out/tokenizers/ar-en_tokenizer.model\"\n",
    "model_config_path = \"Configurations/model_config.json\"\n",
    "training_config_path = \"Configurations/training_config.json\""
   ]
  },
  {
   "cell_type": "code",
   "execution_count": 9,
   "metadata": {},
   "outputs": [
    {
     "name": "stdout",
     "output_type": "stream",
     "text": [
      "---------------------Starting Tokenizer Loading...---------------------\n",
      "Tokenizer length 8192\n",
      "Tokenizer Loading Done.\n"
     ]
    }
   ],
   "source": [
    "print(\"---------------------Starting Tokenizer Loading...---------------------\")\n",
    "tokenizer = Callable_tokenizer(tokenizer_path)\n",
    "vocab_size = len(tokenizer)\n",
    "print(f\"Tokenizer length {vocab_size}\")\n",
    "print(\"Tokenizer Loading Done.\")"
   ]
  },
  {
   "cell_type": "code",
   "execution_count": 6,
   "metadata": {},
   "outputs": [
    {
     "name": "stdout",
     "output_type": "stream",
     "text": [
      "---------------------Starting Data Loading...---------------------\n",
      "Training data length 591452, Validation data length 73932\n",
      "Source tokens shape: torch.Size([5]), Target_fwd tokens shape torch.Size([10]), Target_loss tokens shape torch.Size([10])\n",
      "Data Loading Done.\n"
     ]
    }
   ],
   "source": [
    "print(\"---------------------Starting Data Loading...---------------------\")\n",
    "train_df = pd.read_csv(train_csv_path)\n",
    "valid_df = pd.read_csv(valid_csv_path)\n",
    "\n",
    "train_ds = MT_Dataset(input_sentences_list=train_df['ar'].to_list(),\n",
    "                        target_sentences_list=train_df['en'].to_list(),\n",
    "                        callable_tokenizer=tokenizer)\n",
    "\n",
    "valid_ds = MT_Dataset(input_sentences_list=valid_df['ar'].to_list(),\n",
    "                        target_sentences_list=valid_df['en'].to_list(),\n",
    "                        callable_tokenizer=tokenizer)\n",
    "\n",
    "mycollate = MyCollate(batch_first=True,\n",
    "                        pad_value=tokenizer.get_tokenId('<pad>'))\n",
    "\n",
    "print(f\"Training data length {len(train_ds)}, Validation data length {len(valid_ds)}\")\n",
    "print(f\"Source tokens shape: {train_ds[0][0].shape}, Target_fwd tokens shape {train_ds[0][1].shape}, Target_loss tokens shape {train_ds[0][2].shape}\")\n",
    "print(\"Data Loading Done.\")"
   ]
  },
  {
   "cell_type": "code",
   "execution_count": 8,
   "metadata": {},
   "outputs": [
    {
     "name": "stdout",
     "output_type": "stream",
     "text": [
      "---------------------Parsing Model arguments...---------------------\n",
      "ModelArgs(\n",
      "model_type=transformer,\n",
      "dim_embed=512,\n",
      "dim_model=512,\n",
      "dim_feedforward=2048,\n",
      "num_layers=6,\n",
      "dropout=0.3,\n",
      "maxlen=512,\n",
      "flash_attention=False\n",
      ")\n",
      "Parsing Done.\n"
     ]
    }
   ],
   "source": [
    "print(\"---------------------Parsing Model arguments...---------------------\")\n",
    "model_args = ModelArgs(config_path=model_config_path)\n",
    "print(model_args)\n",
    "print(\"Parsing Done.\")"
   ]
  },
  {
   "cell_type": "code",
   "execution_count": 11,
   "metadata": {},
   "outputs": [
    {
     "name": "stdout",
     "output_type": "stream",
     "text": [
      "---------------------Loading the model...---------------------\n",
      "Module                         Trainable  Non-Trainable\n",
      "embed_shared_src_trg_cls       4,194,304              0\n",
      "positonal_shared_src_trg         262,144              0\n",
      "dropout                                0              0\n",
      "transformer_encoder           18,914,304              0\n",
      "transformer_decoder           25,224,192              0\n",
      "classifier                     4,202,496              0\n",
      "TotalParams                   52,797,440              0\n",
      "Model Loading Done.\n"
     ]
    }
   ],
   "source": [
    "print(\"---------------------Loading the model...---------------------\")\n",
    "model = get_model(model_args, vocab_size)\n",
    "names, tr, nontr = get_parameters_info(model=model)\n",
    "print(f\"{'Module':<25}{'Trainable':>15}{'Non-Trainable':>15}\")\n",
    "for n, ttp, ntp in zip(names, tr, nontr):\n",
    "    print(f\"{n:<25}{ttp:>15,}{ntp:>15,}\")\n",
    "print(\"Model Loading Done.\")"
   ]
  },
  {
   "cell_type": "code",
   "execution_count": 12,
   "metadata": {},
   "outputs": [
    {
     "name": "stdout",
     "output_type": "stream",
     "text": [
      "---------------------Parsing Training arguments...---------------------\n",
      "TrainingArguments(\n",
      "  save_models_dir='./out/models',\n",
      "  save_plots_dir='./out/plots',\n",
      "  learning_rate=0.0001,\n",
      "  max_steps=500,\n",
      "  seed=123,\n",
      "  precision='high',\n",
      "  device='cpu',\n",
      "  batch_size=64,\n",
      "  cpu_num_workers=4,\n",
      "  weight_decay=0.01,\n",
      "  onnx=False,\n",
      "  run_name='experiment_01',\n",
      "  pin_memory=True,\n",
      "  warmup_steps=100,\n",
      "  save_steps=100,\n",
      "  eval_steps=100,\n",
      "  torch_compile=False\n",
      ")\n",
      "Parsing Done.\n"
     ]
    }
   ],
   "source": [
    "print(\"---------------------Parsing Training arguments...---------------------\")\n",
    "training_args = TrainingArguments(training_config_path)\n",
    "print(training_args)\n",
    "print(\"Parsing Done.\")"
   ]
  },
  {
   "cell_type": "code",
   "execution_count": 44,
   "metadata": {},
   "outputs": [
    {
     "name": "stdout",
     "output_type": "stream",
     "text": [
      "---------------------Start training...---------------------\n",
      "Training Done.\n"
     ]
    }
   ],
   "source": [
    "print(\"---------------------Start training...---------------------\")\n",
    "trainer = Trainer(args=training_args, model=model,\n",
    "                    train_ds=train_ds, valid_ds=valid_ds,\n",
    "                    collator=mycollate, compute_metrics_func=compute_bleu)\n",
    "\n",
    "train_losses, valid_losses = trainer.train()\n",
    "print(\"Training Done.\")"
   ]
  },
  {
   "cell_type": "code",
   "execution_count": 78,
   "metadata": {},
   "outputs": [
    {
     "data": {
      "text/plain": [
       "(torch.Size([64, 40]), torch.Size([64, 47]), torch.Size([64, 47]))"
      ]
     },
     "execution_count": 78,
     "metadata": {},
     "output_type": "execute_result"
    }
   ],
   "source": [
    "# source, target_forward, target_loss = next(iter(trainer.train_loader))\n",
    "# source.shape, target_forward.shape, target_loss.shape"
   ]
  },
  {
   "cell_type": "code",
   "execution_count": 81,
   "metadata": {},
   "outputs": [],
   "source": [
    "# logits, loss =model.forward(source=source,\n",
    "#               target_forward=target_forward,\n",
    "#               target_loss=target_loss,\n",
    "#               src_pad_tokenId=0, \n",
    "#               trg_pad_tokenId=0)\n",
    "# candidates = torch.argmax(logits, dim=-1)"
   ]
  },
  {
   "cell_type": "code",
   "execution_count": 82,
   "metadata": {},
   "outputs": [],
   "source": [
    "# def compute_bleu(references:torch.Tensor, candidates:torch.Tensor):\n",
    "#     batch_size = candidates.size(0)\n",
    "#     total_bleu = 0\n",
    "#     smoothing = SmoothingFunction().method2  # Use smoothing to handle zero n-gram overlaps\n",
    "#     for i in range(batch_size):\n",
    "#         mask_i = references[i]!=0\n",
    "#         candidate = candidates[i][mask_i].tolist()\n",
    "#         references_one = [references[i][mask_i].tolist()]\n",
    "#         bleu_score = sentence_bleu(references_one, candidate, weights=[0.33,0.33,0.33,0.0], smoothing_function=smoothing)\n",
    "#         print(round(bleu_score, 4))\n",
    "#         total_bleu += bleu_score\n",
    "    \n",
    "#     return  round(total_bleu / batch_size, 4)"
   ]
  },
  {
   "cell_type": "code",
   "execution_count": 84,
   "metadata": {},
   "outputs": [
    {
     "name": "stdout",
     "output_type": "stream",
     "text": [
      "0\n",
      "0\n",
      "0\n",
      "0\n",
      "0\n",
      "0\n",
      "0\n",
      "0\n",
      "0\n",
      "0\n",
      "0\n",
      "0\n",
      "0\n",
      "0\n",
      "0\n",
      "0\n",
      "0\n",
      "0\n",
      "0\n",
      "0\n",
      "0\n",
      "0\n",
      "0\n",
      "0\n",
      "0\n",
      "0\n",
      "0\n",
      "0\n",
      "0\n",
      "0\n",
      "0\n",
      "0\n",
      "0\n",
      "0\n",
      "0\n",
      "0\n",
      "0\n",
      "0\n",
      "0\n",
      "0\n",
      "0\n",
      "0\n",
      "0\n",
      "0\n",
      "0\n",
      "0\n",
      "0\n",
      "0\n",
      "0\n",
      "0\n",
      "0.0223\n",
      "0\n",
      "0\n",
      "0\n",
      "0\n",
      "0\n",
      "0\n",
      "0\n",
      "0\n",
      "0\n",
      "0\n",
      "0\n",
      "0\n",
      "0\n",
      "Test Case 1 - BLEU Score: 0.0003\n"
     ]
    }
   ],
   "source": [
    "# # # Test Case 1: Perfect Match\n",
    "# # references = torch.tensor([[1, 2, 3, 4, 5, 6], [5, 6, 7, 7, 0, 0]])\n",
    "# # candidates = torch.tensor([[1, 2, 3, 4, 5, 6], [5, 6, 7, 8, 9, 9]])\n",
    "\n",
    "# bleu_score = compute_bleu(target_loss, candidates)\n",
    "# print(f\"Test Case 1 - BLEU Score: {bleu_score}\")  # Expected Output: 1.0"
   ]
  }
 ],
 "metadata": {
  "kernelspec": {
   "display_name": "Python 3",
   "language": "python",
   "name": "python3"
  },
  "language_info": {
   "codemirror_mode": {
    "name": "ipython",
    "version": 3
   },
   "file_extension": ".py",
   "mimetype": "text/x-python",
   "name": "python",
   "nbconvert_exporter": "python",
   "pygments_lexer": "ipython3",
   "version": "3.11.9"
  }
 },
 "nbformat": 4,
 "nbformat_minor": 2
}
