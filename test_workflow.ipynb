{
 "cells": [
  {
   "cell_type": "code",
   "execution_count": 11,
   "metadata": {},
   "outputs": [],
   "source": [
    "import pandas as pd\n",
    "from Models.AutoModel import get_model\n",
    "from Training.Trainer import Trainer\n",
    "from Training.TrainingArguments import TrainingArguments\n",
    "from Tokenizers.Tokenizers import Callable_tokenizer\n",
    "from Models.ModelArgs import ModelArgs\n",
    "\n",
    "from utils import MT_Dataset, MYCollate, compute_bleu, get_parameters_info"
   ]
  },
  {
   "cell_type": "code",
   "execution_count": 2,
   "metadata": {},
   "outputs": [],
   "source": [
    "train_csv_path = \"out/data/df_train.csv\"\n",
    "valid_csv_path = \"out/data/df_valid.csv\"\n",
    "src_tokenizer_path = \"out/tokenizers/src_tokenizer.model\"\n",
    "trg_tokenizer_path = \"out/tokenizers/trg_tokenizer.model\"\n",
    "model_config_path = \"Configurations/model_config.json\"\n",
    "training_config_path = \"Configurations/training_config.json\""
   ]
  },
  {
   "cell_type": "code",
   "execution_count": 3,
   "metadata": {},
   "outputs": [
    {
     "name": "stdout",
     "output_type": "stream",
     "text": [
      "Source tokenizer length 4096, Target tokenizer length 6144\n"
     ]
    }
   ],
   "source": [
    "src_tokenizer = Callable_tokenizer(src_tokenizer_path)\n",
    "trg_tokenizer = Callable_tokenizer(trg_tokenizer_path)\n",
    "src_vocab_size = len(src_tokenizer)\n",
    "trg_vocab_size = len(trg_tokenizer)\n",
    "print(f\"Source tokenizer length {src_vocab_size}, Target tokenizer length {trg_vocab_size}\")"
   ]
  },
  {
   "cell_type": "code",
   "execution_count": 4,
   "metadata": {},
   "outputs": [
    {
     "name": "stdout",
     "output_type": "stream",
     "text": [
      "Training data length 100, Validation data length 50\n",
      "Source tokens shape: torch.Size([281]), Target_forward shape torch.Size([183]), Target_loss shape torch.Size([183])\n",
      "Data Loading Done.\n"
     ]
    }
   ],
   "source": [
    "train_df = pd.read_csv(train_csv_path)\n",
    "valid_df = pd.read_csv(valid_csv_path)\n",
    "\n",
    "train_ds = MT_Dataset(src_sentences_list=train_df[train_df.columns[0]][:100].to_list(), trg_sentences_list=train_df[train_df.columns[1]][:100].to_list(),\n",
    "                        src_tokenizer=src_tokenizer, trg_tokenizer=trg_tokenizer)\n",
    "valid_ds = MT_Dataset(src_sentences_list=valid_df[valid_df.columns[0]][:50].to_list(), trg_sentences_list=valid_df[valid_df.columns[1]][:50].to_list(),\n",
    "                        src_tokenizer=src_tokenizer, trg_tokenizer=trg_tokenizer)\n",
    "mycollate = MYCollate(batch_first=True, pad_value=trg_tokenizer.get_tokenId('<pad>'))\n",
    "print(f\"Training data length {len(train_ds)}, Validation data length {len(valid_ds)}\")\n",
    "print(f\"Source tokens shape: {train_ds[3][0].shape}, Target_forward shape {train_ds[3][1].shape}, Target_loss shape {train_ds[3][2].shape}\")\n",
    "print(\"Data Loading Done.\")"
   ]
  },
  {
   "cell_type": "code",
   "execution_count": 5,
   "metadata": {},
   "outputs": [
    {
     "name": "stdout",
     "output_type": "stream",
     "text": [
      "ModelArgs(\n",
      "model_type=s2s,\n",
      "dim_embed=16,\n",
      "dim_model=16,\n",
      "dim_feedforward=64,\n",
      "num_layers=2,\n",
      "dropout=0.3,\n",
      "maxlen=512,\n",
      "flash_attention=False\n",
      ")\n"
     ]
    }
   ],
   "source": [
    "model_args = ModelArgs(config_path=model_config_path)\n",
    "print(model_args)"
   ]
  },
  {
   "cell_type": "code",
   "execution_count": 6,
   "metadata": {},
   "outputs": [
    {
     "name": "stdout",
     "output_type": "stream",
     "text": [
      "Module               Trainable  Non-Trainable\n",
      "encoder                 76,752              0\n",
      "decoder                101,840              0\n",
      "classifier             104,448              0\n",
      "TotalParams            283,040              0\n"
     ]
    }
   ],
   "source": [
    "model = get_model(model_args, src_vocab_size, trg_vocab_size)\n",
    "names, tr, nontr = get_parameters_info(model=model)\n",
    "print(f\"{'Module':<15}{'Trainable':>15}{'Non-Trainable':>15}\")\n",
    "for n, ttp, ntp in zip(names, tr, nontr):\n",
    "    print(f\"{n:<15}{ttp:>15,}{ntp:>15,}\")"
   ]
  },
  {
   "cell_type": "code",
   "execution_count": 7,
   "metadata": {},
   "outputs": [
    {
     "name": "stdout",
     "output_type": "stream",
     "text": [
      "TrainingArguments(\n",
      "  save_models_dir='./out/models',\n",
      "  save_plots_dir='./out/plots',\n",
      "  learning_rate=0.0001,\n",
      "  max_steps=20,\n",
      "  seed=123,\n",
      "  precision='high',\n",
      "  device='cpu',\n",
      "  batch_size=64,\n",
      "  cpu_num_workers=4,\n",
      "  weight_decay=0.01,\n",
      "  onnx=False,\n",
      "  run_name='experiment_01',\n",
      "  pin_memory=True,\n",
      "  warmup_steps=2,\n",
      "  save_steps=5,\n",
      "  eval_steps=5,\n",
      "  torch_compile=False\n",
      ")\n"
     ]
    }
   ],
   "source": [
    "training_args = TrainingArguments(training_config_path)\n",
    "print(training_args)"
   ]
  },
  {
   "cell_type": "code",
   "execution_count": null,
   "metadata": {},
   "outputs": [],
   "source": [
    "trainer = Trainer(args=training_args, model=model,\n",
    "                    train_ds=train_ds, valid_ds=valid_ds,\n",
    "                    collator=mycollate,\n",
    "                    compute_metrics_func=compute_bleu)\n",
    "\n",
    "train_losses, valid_losses = trainer.train()"
   ]
  }
 ],
 "metadata": {
  "kernelspec": {
   "display_name": "Python 3",
   "language": "python",
   "name": "python3"
  },
  "language_info": {
   "codemirror_mode": {
    "name": "ipython",
    "version": 3
   },
   "file_extension": ".py",
   "mimetype": "text/x-python",
   "name": "python",
   "nbconvert_exporter": "python",
   "pygments_lexer": "ipython3",
   "version": "3.11.9"
  }
 },
 "nbformat": 4,
 "nbformat_minor": 2
}
